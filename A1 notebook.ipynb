{
 "cells": [
  {
   "cell_type": "code",
   "execution_count": 124,
   "metadata": {},
   "outputs": [],
   "source": [
    "%config IPCompleter.greedy=True"
   ]
  },
  {
   "cell_type": "code",
   "execution_count": 125,
   "metadata": {},
   "outputs": [],
   "source": [
    "import numpy as np"
   ]
  },
  {
   "cell_type": "markdown",
   "metadata": {},
   "source": []
  },
  {
   "cell_type": "code",
   "execution_count": 193,
   "metadata": {
    "scrolled": true
   },
   "outputs": [
    {
     "data": {
      "text/plain": [
       "array([[1.000025e+06, 5.000000e+00, 1.000000e+00, ..., 1.000000e+00,\n",
       "        1.000000e+00, 2.000000e+00],\n",
       "       [1.002945e+06, 5.000000e+00, 4.000000e+00, ..., 2.000000e+00,\n",
       "        1.000000e+00, 2.000000e+00],\n",
       "       [1.015425e+06, 3.000000e+00, 1.000000e+00, ..., 1.000000e+00,\n",
       "        1.000000e+00, 2.000000e+00],\n",
       "       ...,\n",
       "       [8.888200e+05, 5.000000e+00, 1.000000e+01, ..., 1.000000e+01,\n",
       "        2.000000e+00, 4.000000e+00],\n",
       "       [8.974710e+05, 4.000000e+00, 8.000000e+00, ..., 6.000000e+00,\n",
       "        1.000000e+00, 4.000000e+00],\n",
       "       [8.974710e+05, 4.000000e+00, 8.000000e+00, ..., 4.000000e+00,\n",
       "        1.000000e+00, 4.000000e+00]])"
      ]
     },
     "execution_count": 193,
     "metadata": {},
     "output_type": "execute_result"
    }
   ],
   "source": [
    "##load data\n",
    "\n",
    "filename = 'breast-cancer-wisconsin.data'\n",
    "\n",
    "data = np.loadtxt(filename, delimiter=',')\n",
    "data\n"
   ]
  },
  {
   "cell_type": "code",
   "execution_count": 194,
   "metadata": {},
   "outputs": [],
   "source": [
    "#replaces the outcome in each vector\n",
    "def replace(vector,index):\n",
    "    if vector[index]==4:\n",
    "        vector[index]=1\n",
    "        return vector\n",
    "    else:\n",
    "        vector[index]=0\n",
    "        return vector\n",
    "    \n",
    "# replace(data[0],10)"
   ]
  },
  {
   "cell_type": "code",
   "execution_count": 195,
   "metadata": {},
   "outputs": [
    {
     "name": "stdout",
     "output_type": "stream",
     "text": [
      "[[1.000025e+06 1.000000e+00 5.000000e+00 ... 1.000000e+00 1.000000e+00\n",
      "  0.000000e+00]\n",
      " [1.002945e+06 1.000000e+00 5.000000e+00 ... 2.000000e+00 1.000000e+00\n",
      "  0.000000e+00]\n",
      " [1.015425e+06 1.000000e+00 3.000000e+00 ... 1.000000e+00 1.000000e+00\n",
      "  0.000000e+00]\n",
      " ...\n",
      " [8.888200e+05 1.000000e+00 5.000000e+00 ... 1.000000e+01 2.000000e+00\n",
      "  1.000000e+00]\n",
      " [8.974710e+05 1.000000e+00 4.000000e+00 ... 6.000000e+00 1.000000e+00\n",
      "  1.000000e+00]\n",
      " [8.974710e+05 1.000000e+00 4.000000e+00 ... 4.000000e+00 1.000000e+00\n",
      "  1.000000e+00]]\n"
     ]
    },
    {
     "name": "stderr",
     "output_type": "stream",
     "text": [
      "C:\\Users\\alloc\\Anaconda3\\envs\\comp551a1\\lib\\site-packages\\ipykernel_launcher.py:2: FutureWarning: elementwise comparison failed; returning scalar instead, but in the future will perform elementwise comparison\n",
      "  \n"
     ]
    },
    {
     "data": {
      "text/plain": [
       "array([0., 0., 0., 0., 0., 1., 0., 0., 0., 0., 0., 0., 1., 0., 1., 1., 0.,\n",
       "       0., 1., 0., 1., 1., 0., 0., 1., 0., 0., 0., 0., 0., 0., 1., 0., 0.,\n",
       "       0., 1., 0., 1., 1., 1., 1., 1., 1., 0., 1., 0., 0., 1., 1., 1., 1.,\n",
       "       1., 1., 1., 1., 1., 1., 1., 1., 0., 1., 1., 0., 1., 0., 1., 1., 0.,\n",
       "       0., 1., 0., 1., 1., 0., 0., 0., 0., 0., 0., 0., 0., 0., 1., 1., 1.,\n",
       "       1., 0., 0., 0., 0., 0., 0., 0., 0., 0., 0., 1., 1., 1., 1., 0., 1.,\n",
       "       1., 1., 1., 1., 0., 1., 0., 1., 1., 1., 0., 0., 0., 1., 0., 0., 0.,\n",
       "       0., 1., 1., 1., 0., 1., 0., 1., 0., 0., 0., 1., 0., 0., 0., 0., 0.,\n",
       "       0., 0., 0., 1., 0., 0., 1., 0., 0., 1., 0., 1., 1., 0., 0., 1., 0.,\n",
       "       0., 1., 1., 0., 0., 0., 0., 1., 1., 0., 0., 0., 0., 0., 1., 1., 1.,\n",
       "       0., 1., 0., 1., 0., 0., 0., 1., 1., 0., 1., 1., 1., 0., 1., 1., 0.,\n",
       "       0., 0., 0., 0., 0., 0., 0., 1., 1., 0., 0., 0., 1., 1., 0., 0., 0.,\n",
       "       1., 1., 0., 1., 1., 1., 0., 0., 1., 0., 0., 1., 1., 1., 1., 0., 1.,\n",
       "       1., 0., 1., 1., 1., 0., 1., 0., 1., 1., 1., 1., 0., 0., 0., 0., 0.,\n",
       "       0., 1., 1., 0., 0., 1., 0., 1., 1., 1., 0., 0., 0., 0., 1., 1., 1.,\n",
       "       1., 1., 0., 1., 1., 1., 0., 1., 0., 1., 1., 0., 0., 0., 0., 1., 0.,\n",
       "       0., 1., 1., 1., 1., 1., 0., 1., 1., 0., 0., 1., 1., 0., 0., 1., 1.,\n",
       "       0., 1., 0., 1., 1., 0., 0., 1., 0., 0., 0., 1., 0., 0., 1., 1., 0.,\n",
       "       0., 1., 0., 1., 0., 0., 1., 0., 1., 1., 1., 0., 0., 1., 1., 0., 1.,\n",
       "       0., 0., 1., 1., 0., 0., 0., 1., 0., 0., 0., 1., 1., 0., 0., 0., 1.,\n",
       "       0., 0., 1., 1., 1., 1., 1., 1., 0., 0., 0., 0., 1., 1., 0., 0., 0.,\n",
       "       0., 0., 0., 0., 0., 0., 0., 0., 0., 0., 1., 0., 0., 0., 0., 1., 0.,\n",
       "       0., 0., 0., 1., 0., 0., 0., 0., 0., 0., 0., 0., 1., 0., 0., 0., 0.,\n",
       "       0., 0., 0., 0., 0., 0., 1., 0., 1., 0., 1., 0., 0., 0., 0., 1., 0.,\n",
       "       0., 0., 1., 0., 1., 0., 0., 0., 0., 0., 0., 0., 1., 1., 0., 0., 0.,\n",
       "       1., 0., 0., 0., 0., 0., 0., 0., 0., 1., 0., 0., 0., 1., 0., 1., 1.,\n",
       "       1., 0., 0., 0., 0., 0., 0., 0., 1., 1., 1., 0., 0., 0., 0., 0., 0.,\n",
       "       0., 0., 0., 0., 0., 1., 0., 0., 1., 1., 0., 0., 0., 1., 1., 1., 0.,\n",
       "       1., 0., 1., 0., 0., 0., 0., 0., 0., 0., 0., 0., 0., 0., 0., 1., 0.,\n",
       "       0., 0., 0., 0., 0., 0., 1., 1., 0., 0., 0., 1., 0., 0., 1., 1., 0.,\n",
       "       0., 0., 0., 0., 0., 1., 0., 0., 0., 0., 0., 0., 0., 0., 0., 0., 0.,\n",
       "       0., 0., 0., 0., 1., 0., 0., 1., 0., 0., 0., 0., 0., 0., 0., 0., 0.,\n",
       "       0., 0., 0., 0., 0., 0., 1., 0., 0., 1., 1., 1., 1., 0., 0., 1., 0.,\n",
       "       0., 0., 0., 0., 0., 1., 1., 0., 0., 0., 1., 0., 1., 0., 1., 1., 1.,\n",
       "       0., 1., 0., 0., 0., 0., 0., 0., 0., 0., 1., 1., 1., 0., 0., 1., 0.,\n",
       "       1., 1., 1., 0., 0., 0., 0., 0., 0., 0., 0., 0., 0., 0., 0., 1., 0.,\n",
       "       0., 0., 0., 0., 0., 1., 0., 0., 1., 0., 0., 0., 0., 0., 0., 0., 0.,\n",
       "       0., 0., 0., 1., 0., 0., 0., 0., 0., 0., 0., 0., 0., 1., 0., 0., 0.,\n",
       "       0., 0., 0., 0., 0., 0., 1., 1., 1., 0., 0., 0., 0., 0., 0., 0., 0.,\n",
       "       0., 1., 1., 0., 0., 0., 0., 0., 0., 0., 0., 0., 1., 0., 0., 0., 0.,\n",
       "       1., 1., 1.])"
      ]
     },
     "execution_count": 195,
     "metadata": {},
     "output_type": "execute_result"
    }
   ],
   "source": [
    "def preproc(dataset):\n",
    "    clean = [point for point in dataset if \"?\" not in point]\n",
    "    for element in dataset:\n",
    "        element=replace(element,10)\n",
    "    #add column of 1 to determine bias term\n",
    "    temp= dataset\n",
    "    temp=np.insert(temp, 1, 1, axis=1)\n",
    "    return temp    \n",
    "\n",
    "data = preproc(data)\n",
    "print(data)\n",
    "data[:,11]"
   ]
  },
  {
   "cell_type": "code",
   "execution_count": 196,
   "metadata": {},
   "outputs": [
    {
     "data": {
      "text/plain": [
       "(683, 12)"
      ]
     },
     "execution_count": 196,
     "metadata": {},
     "output_type": "execute_result"
    }
   ],
   "source": [
    "data.shape"
   ]
  },
  {
   "cell_type": "code",
   "execution_count": 197,
   "metadata": {},
   "outputs": [],
   "source": [
    "#sigmoid function\n",
    "def sigmoid(x):\n",
    "    return 1/(1+np.exp(-x))\n",
    "\n",
    "    "
   ]
  },
  {
   "cell_type": "code",
   "execution_count": 198,
   "metadata": {},
   "outputs": [
    {
     "data": {
      "text/plain": [
       "0.574442516811659"
      ]
     },
     "execution_count": 198,
     "metadata": {},
     "output_type": "execute_result"
    }
   ],
   "source": [
    "sigmoid(0.3)"
   ]
  },
  {
   "cell_type": "code",
   "execution_count": null,
   "metadata": {},
   "outputs": [],
   "source": []
  },
  {
   "cell_type": "code",
   "execution_count": 199,
   "metadata": {},
   "outputs": [],
   "source": [
    "#not actually needed\n",
    "\n",
    "def logodds(index,value,dataset):\n",
    "    featureX = dataset[dataset[:,index]==value,:]\n",
    "    p1 = featureX[featureX[:,10]==4,:]\n",
    "    p0 = featureX[featureX[:,10]==2,:]\n",
    "    p1=p1.shape[0];\n",
    "    p0=p0.shape[0];\n",
    "    if p0!=0:\n",
    "        return np.log(p1/p0)\n",
    "    else:\n",
    "        return np.inf\n",
    "        \n",
    "        \n",
    "        "
   ]
  },
  {
   "cell_type": "code",
   "execution_count": null,
   "metadata": {},
   "outputs": [],
   "source": []
  },
  {
   "cell_type": "code",
   "execution_count": 200,
   "metadata": {},
   "outputs": [
    {
     "data": {
      "text/plain": [
       "0.0"
      ]
     },
     "execution_count": 200,
     "metadata": {},
     "output_type": "execute_result"
    }
   ],
   "source": [
    "sigmoid(x)"
   ]
  },
  {
   "cell_type": "code",
   "execution_count": 201,
   "metadata": {},
   "outputs": [
    {
     "data": {
      "text/plain": [
       "0.2689414213699951"
      ]
     },
     "execution_count": 201,
     "metadata": {},
     "output_type": "execute_result"
    }
   ],
   "source": [
    "sigmoid(-1)"
   ]
  },
  {
   "cell_type": "code",
   "execution_count": 202,
   "metadata": {},
   "outputs": [
    {
     "data": {
      "text/plain": [
       "(9,)"
      ]
     },
     "execution_count": 202,
     "metadata": {},
     "output_type": "execute_result"
    }
   ],
   "source": [
    "#update function\n",
    "def update(weights,dataset,rate):\n",
    "    new_weights=weights\n",
    "    for element in dataset:\n",
    "        new_weights=np.add(new_weights, rate*(element[1:10]*(element[10]-sigmoid(weights.dot(element[1:10])))))\n",
    "    return new_weights\n",
    "    \n",
    "w = np.array([1,1,1,1,1,1,1,1,1], dtype=np.float64)\n",
    "w.shape"
   ]
  },
  {
   "cell_type": "code",
   "execution_count": 203,
   "metadata": {},
   "outputs": [
    {
     "name": "stdout",
     "output_type": "stream",
     "text": [
      "[1.000025e+06 1.000000e+00 5.000000e+00 1.000000e+00 1.000000e+00\n",
      " 1.000000e+00 2.000000e+00 1.000000e+00 3.000000e+00 1.000000e+00\n",
      " 1.000000e+00 0.000000e+00]\n"
     ]
    }
   ],
   "source": [
    "training_set = data[:500,:]\n",
    "print(training_set[0])"
   ]
  },
  {
   "cell_type": "code",
   "execution_count": 204,
   "metadata": {},
   "outputs": [],
   "source": [
    "test_set = data[499:,:]"
   ]
  },
  {
   "cell_type": "code",
   "execution_count": 205,
   "metadata": {},
   "outputs": [
    {
     "data": {
      "text/plain": [
       "array([1.33  , 9.199 , 8.588 , 8.3775, 7.434 , 7.7855, 8.8395, 7.0175,\n",
       "       7.9005])"
      ]
     },
     "execution_count": 205,
     "metadata": {},
     "output_type": "execute_result"
    }
   ],
   "source": [
    "#gradient descent is done here\n",
    "w = np.array([0,0,0,0,0,0,0,0,0])\n",
    "i=0\n",
    "rate=0.001\n",
    "while i<1000:\n",
    "    w=update(w,training_set,rate)\n",
    "    rate=rate/1.5\n",
    "    i+=1\n",
    "w"
   ]
  },
  {
   "cell_type": "code",
   "execution_count": null,
   "metadata": {},
   "outputs": [],
   "source": []
  },
  {
   "cell_type": "code",
   "execution_count": 206,
   "metadata": {},
   "outputs": [
    {
     "name": "stdout",
     "output_type": "stream",
     "text": [
      "164\n",
      "184\n",
      "0.8913043478260869\n"
     ]
    }
   ],
   "source": [
    "#calculate accuracy of predictions\n",
    "score = 0\n",
    "for element in test_set:\n",
    "    res=w.dot(element[1:10])\n",
    "#     print(res>0,element[10])\n",
    "    if(res>0.5 and element[10]==1) or (res<0.5 and element[10]==0):\n",
    "        score+=1\n",
    "        \n",
    "print(score)\n",
    "print(test_set[:,0].size)\n",
    "print(score/184)"
   ]
  },
  {
   "cell_type": "code",
   "execution_count": 207,
   "metadata": {},
   "outputs": [],
   "source": [
    "class logisticReg:\n",
    "    \"\"\"class to build logistic regression model\"\"\"\n",
    "        \n",
    "    def __init__(self, dataset):\n",
    "        self.dataset = dataset\n",
    "        \n",
    "    #update function\n",
    "    def update(self,weights,dataset,rate):\n",
    "        new_weights=weights\n",
    "        for element in dataset:\n",
    "            new_weights=np.add(new_weights, rate*(element[1:11]*(element[11]-sigmoid(weights.dot(element[1:11])))))\n",
    "        return new_weights\n",
    "    \n",
    "        \n",
    "    def fit(self,training_set):\n",
    "        w = np.array([0,0,0,0,0,0,0,0,0,0])\n",
    "        i=0\n",
    "        rate=0.001\n",
    "        while i<1000:\n",
    "            w=self.update(w,training_set,rate)\n",
    "            rate=rate/1.5\n",
    "            i+=1\n",
    "        return w\n",
    "    \n",
    "    \n",
    "    def evaluate_acc(self , predictions):\n",
    "        score = 0\n",
    "        for pred in predictions:\n",
    "            if pred[0]==pred[1]:\n",
    "                score+=1\n",
    "        \n",
    "        print(\"Correct Predictions: \",score)\n",
    "        print(\"Total Predictions: \",predictions[:,0].size)\n",
    "        print(\"Accuracy Percentage: \",score/predictions[:,1].size*100,\"%\")\n",
    "        return score/predictions[:,1].size*100\n",
    "        \n",
    "    def predict(self ,weights,data):\n",
    "        res=data[:,1:11].dot(weights)\n",
    "        return np.c_[ data, res>0.5 ]              \n",
    "    \n",
    "    def kfold(self,k,data):\n",
    "        i=0\n",
    "        score=0\n",
    "        batch_size=np.floor(data[:,1].size/k)\n",
    "        while i < k -1 : \n",
    "\n",
    "            training_data=np.delete(data, np.s_[(int)(i*batch_size):(int)((i+1)*batch_size)], 0)\n",
    "            test_data= data[(int)(i*(batch_size)):(int)((i+1)*(batch_size))]\n",
    "            weights = self.fit(training_data)\n",
    "            preds = self.predict(weights,test_data)\n",
    "            print(\"\\nSegmentation #\",i+1,\" Results:\")\n",
    "            score+=self.evaluate_acc(preds[:,11:13])\n",
    "            i+=1\n",
    "            \n",
    "        training_data=np.delete(data, np.s_[(int)(i*batch_size):], 0)\n",
    "        test_data= data[(int)(i*(batch_size)):]\n",
    "        weights = self.fit(training_data)\n",
    "        preds = self.predict(weights,test_data)\n",
    "        print(\"\\nSegmentation #\",i+1,\" Results:\")\n",
    "        score+=self.evaluate_acc(preds[:,11:13])\n",
    "        print(\"\\nAverage Accuracy Score: \",score/k,\"%\")\n",
    "        \n",
    "   "
   ]
  },
  {
   "cell_type": "code",
   "execution_count": 208,
   "metadata": {},
   "outputs": [],
   "source": [
    "model = logisticReg(data)"
   ]
  },
  {
   "cell_type": "code",
   "execution_count": 209,
   "metadata": {},
   "outputs": [],
   "source": [
    "weights = model.fit(training_set)"
   ]
  },
  {
   "cell_type": "code",
   "execution_count": 210,
   "metadata": {},
   "outputs": [
    {
     "data": {
      "text/plain": [
       "array([-0.37047828, -0.26518061,  0.26075875,  0.23170381,  0.08756544,\n",
       "       -0.25128753,  0.38175468, -0.25624658,  0.19570249, -0.10461199])"
      ]
     },
     "execution_count": 210,
     "metadata": {},
     "output_type": "execute_result"
    }
   ],
   "source": [
    "weights"
   ]
  },
  {
   "cell_type": "code",
   "execution_count": null,
   "metadata": {},
   "outputs": [],
   "source": []
  },
  {
   "cell_type": "code",
   "execution_count": 211,
   "metadata": {},
   "outputs": [],
   "source": [
    "predictions = model.predict(weights,test_set)"
   ]
  },
  {
   "cell_type": "code",
   "execution_count": 212,
   "metadata": {},
   "outputs": [
    {
     "data": {
      "text/plain": [
       "array([[1., 1.],\n",
       "       [1., 1.],\n",
       "       [0., 0.],\n",
       "       [0., 0.],\n",
       "       [0., 0.],\n",
       "       [1., 1.],\n",
       "       [0., 0.],\n",
       "       [0., 0.],\n",
       "       [1., 0.],\n",
       "       [1., 1.],\n",
       "       [0., 0.],\n",
       "       [0., 0.],\n",
       "       [0., 0.],\n",
       "       [0., 0.],\n",
       "       [0., 0.],\n",
       "       [0., 0.],\n",
       "       [1., 1.],\n",
       "       [0., 0.],\n",
       "       [0., 0.],\n",
       "       [0., 0.],\n",
       "       [0., 0.],\n",
       "       [0., 0.],\n",
       "       [0., 0.],\n",
       "       [0., 0.],\n",
       "       [0., 0.],\n",
       "       [0., 0.],\n",
       "       [0., 0.],\n",
       "       [0., 0.],\n",
       "       [0., 0.],\n",
       "       [0., 0.],\n",
       "       [0., 0.],\n",
       "       [0., 0.],\n",
       "       [1., 1.],\n",
       "       [0., 0.],\n",
       "       [0., 0.],\n",
       "       [1., 1.],\n",
       "       [0., 0.],\n",
       "       [0., 0.],\n",
       "       [0., 0.],\n",
       "       [0., 1.],\n",
       "       [0., 0.],\n",
       "       [0., 0.],\n",
       "       [0., 0.],\n",
       "       [0., 0.],\n",
       "       [0., 0.],\n",
       "       [0., 0.],\n",
       "       [0., 0.],\n",
       "       [0., 0.],\n",
       "       [0., 0.],\n",
       "       [0., 0.],\n",
       "       [0., 0.],\n",
       "       [1., 1.],\n",
       "       [0., 0.],\n",
       "       [0., 0.],\n",
       "       [1., 1.],\n",
       "       [1., 1.],\n",
       "       [1., 1.],\n",
       "       [1., 1.],\n",
       "       [0., 0.],\n",
       "       [0., 0.],\n",
       "       [1., 0.],\n",
       "       [0., 0.],\n",
       "       [0., 0.],\n",
       "       [0., 0.],\n",
       "       [0., 0.],\n",
       "       [0., 0.],\n",
       "       [0., 0.],\n",
       "       [1., 1.],\n",
       "       [1., 1.],\n",
       "       [0., 0.],\n",
       "       [0., 0.],\n",
       "       [0., 0.],\n",
       "       [1., 1.],\n",
       "       [0., 0.],\n",
       "       [1., 1.],\n",
       "       [0., 0.],\n",
       "       [1., 0.],\n",
       "       [1., 1.],\n",
       "       [1., 1.],\n",
       "       [0., 0.],\n",
       "       [1., 1.],\n",
       "       [0., 0.],\n",
       "       [0., 0.],\n",
       "       [0., 0.],\n",
       "       [0., 0.],\n",
       "       [0., 0.],\n",
       "       [0., 0.],\n",
       "       [0., 0.],\n",
       "       [0., 0.],\n",
       "       [1., 1.],\n",
       "       [1., 1.],\n",
       "       [1., 1.],\n",
       "       [0., 0.],\n",
       "       [0., 0.],\n",
       "       [1., 1.],\n",
       "       [0., 0.],\n",
       "       [1., 1.],\n",
       "       [1., 1.],\n",
       "       [1., 1.],\n",
       "       [0., 0.],\n",
       "       [0., 0.],\n",
       "       [0., 0.],\n",
       "       [0., 0.],\n",
       "       [0., 0.],\n",
       "       [0., 0.],\n",
       "       [0., 0.],\n",
       "       [0., 0.],\n",
       "       [0., 0.],\n",
       "       [0., 0.],\n",
       "       [0., 0.],\n",
       "       [0., 0.],\n",
       "       [1., 1.],\n",
       "       [0., 1.],\n",
       "       [0., 0.],\n",
       "       [0., 0.],\n",
       "       [0., 0.],\n",
       "       [0., 0.],\n",
       "       [0., 0.],\n",
       "       [1., 1.],\n",
       "       [0., 0.],\n",
       "       [0., 0.],\n",
       "       [1., 0.],\n",
       "       [0., 0.],\n",
       "       [0., 0.],\n",
       "       [0., 0.],\n",
       "       [0., 0.],\n",
       "       [0., 0.],\n",
       "       [0., 0.],\n",
       "       [0., 0.],\n",
       "       [0., 0.],\n",
       "       [0., 0.],\n",
       "       [0., 0.],\n",
       "       [0., 0.],\n",
       "       [1., 1.],\n",
       "       [0., 0.],\n",
       "       [0., 0.],\n",
       "       [0., 0.],\n",
       "       [0., 0.],\n",
       "       [0., 0.],\n",
       "       [0., 0.],\n",
       "       [0., 0.],\n",
       "       [0., 0.],\n",
       "       [0., 0.],\n",
       "       [1., 1.],\n",
       "       [0., 0.],\n",
       "       [0., 0.],\n",
       "       [0., 0.],\n",
       "       [0., 0.],\n",
       "       [0., 0.],\n",
       "       [0., 0.],\n",
       "       [0., 0.],\n",
       "       [0., 0.],\n",
       "       [0., 0.],\n",
       "       [1., 0.],\n",
       "       [1., 1.],\n",
       "       [1., 1.],\n",
       "       [0., 0.],\n",
       "       [0., 0.],\n",
       "       [0., 0.],\n",
       "       [0., 0.],\n",
       "       [0., 0.],\n",
       "       [0., 0.],\n",
       "       [0., 0.],\n",
       "       [0., 0.],\n",
       "       [0., 0.],\n",
       "       [1., 1.],\n",
       "       [1., 1.],\n",
       "       [0., 0.],\n",
       "       [0., 0.],\n",
       "       [0., 0.],\n",
       "       [0., 0.],\n",
       "       [0., 0.],\n",
       "       [0., 0.],\n",
       "       [0., 0.],\n",
       "       [0., 0.],\n",
       "       [0., 0.],\n",
       "       [1., 1.],\n",
       "       [0., 0.],\n",
       "       [0., 0.],\n",
       "       [0., 0.],\n",
       "       [0., 0.],\n",
       "       [1., 1.],\n",
       "       [1., 1.],\n",
       "       [1., 1.]])"
      ]
     },
     "execution_count": 212,
     "metadata": {},
     "output_type": "execute_result"
    }
   ],
   "source": [
    "predictions[:,11:13]"
   ]
  },
  {
   "cell_type": "code",
   "execution_count": 213,
   "metadata": {},
   "outputs": [
    {
     "name": "stdout",
     "output_type": "stream",
     "text": [
      "Correct Predictions:  177\n",
      "Total Predictions:  184\n",
      "Accuracy Percentage:  96.19565217391305 %\n"
     ]
    },
    {
     "data": {
      "text/plain": [
       "96.19565217391305"
      ]
     },
     "execution_count": 213,
     "metadata": {},
     "output_type": "execute_result"
    }
   ],
   "source": [
    "model.evaluate_acc(predictions[:,11:13])"
   ]
  },
  {
   "cell_type": "code",
   "execution_count": 214,
   "metadata": {},
   "outputs": [
    {
     "name": "stdout",
     "output_type": "stream",
     "text": [
      "\n",
      "Segmentation # 1  Results:\n",
      "Correct Predictions:  106\n",
      "Total Predictions:  136\n",
      "Accuracy Percentage:  77.94117647058823 %\n",
      "\n",
      "Segmentation # 2  Results:\n",
      "Correct Predictions:  121\n",
      "Total Predictions:  136\n",
      "Accuracy Percentage:  88.97058823529412 %\n",
      "\n",
      "Segmentation # 3  Results:\n",
      "Correct Predictions:  121\n",
      "Total Predictions:  136\n",
      "Accuracy Percentage:  88.97058823529412 %\n",
      "\n",
      "Segmentation # 4  Results:\n",
      "Correct Predictions:  124\n",
      "Total Predictions:  136\n",
      "Accuracy Percentage:  91.17647058823529 %\n",
      "\n",
      "Segmentation # 5  Results:\n",
      "Correct Predictions:  135\n",
      "Total Predictions:  139\n",
      "Accuracy Percentage:  97.12230215827337 %\n",
      "\n",
      "Average Accuracy Score:  88.83622513753703 %\n"
     ]
    }
   ],
   "source": [
    "model.kfold(5,model.dataset)"
   ]
  },
  {
   "cell_type": "code",
   "execution_count": null,
   "metadata": {},
   "outputs": [],
   "source": []
  },
  {
   "cell_type": "code",
   "execution_count": null,
   "metadata": {},
   "outputs": [],
   "source": []
  },
  {
   "cell_type": "code",
   "execution_count": null,
   "metadata": {},
   "outputs": [],
   "source": []
  }
 ],
 "metadata": {
  "kernelspec": {
   "display_name": "comp551a1",
   "language": "python",
   "name": "comp551a1"
  },
  "language_info": {
   "codemirror_mode": {
    "name": "ipython",
    "version": 3
   },
   "file_extension": ".py",
   "mimetype": "text/x-python",
   "name": "python",
   "nbconvert_exporter": "python",
   "pygments_lexer": "ipython3",
   "version": "3.7.3"
  }
 },
 "nbformat": 4,
 "nbformat_minor": 2
}
