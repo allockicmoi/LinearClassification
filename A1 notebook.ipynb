{
 "cells": [
  {
   "cell_type": "code",
   "execution_count": 220,
   "metadata": {},
   "outputs": [],
   "source": [
    "%config IPCompleter.greedy=True"
   ]
  },
  {
   "cell_type": "code",
   "execution_count": 221,
   "metadata": {},
   "outputs": [],
   "source": [
    "import numpy as np"
   ]
  },
  {
   "cell_type": "markdown",
   "metadata": {},
   "source": [
    "# Logistic Regression for Breast Cancer Data\n",
    "\n",
    "Julien Courbebaisse 260614548"
   ]
  },
  {
   "cell_type": "code",
   "execution_count": 222,
   "metadata": {
    "scrolled": true
   },
   "outputs": [],
   "source": [
    "#load data\n",
    "filename = 'breast-cancer-wisconsin.data'\n",
    "data = np.loadtxt(filename, delimiter=',')"
   ]
  },
  {
   "cell_type": "code",
   "execution_count": 223,
   "metadata": {},
   "outputs": [],
   "source": [
    "#replaces the outcome in each vector\n",
    "def replace(vector,index):\n",
    "    if vector[index]==4:\n",
    "        vector[index]=1\n",
    "        return vector\n",
    "    else:\n",
    "        vector[index]=0\n",
    "        return vector\n",
    "    \n",
    "# replace(data[0],10)"
   ]
  },
  {
   "cell_type": "code",
   "execution_count": 224,
   "metadata": {
    "scrolled": true
   },
   "outputs": [],
   "source": [
    "def preproc(dataset):\n",
    "#     clean = [point for point in dataset if \"?\" not in point]\n",
    "    for element in dataset:\n",
    "        element=replace(element,10)\n",
    "    #add column of 1 to determine bias term\n",
    "    temp= dataset\n",
    "    temp=np.insert(temp, 1, 1, axis=1)\n",
    "    return temp    \n",
    "\n",
    "data = preproc(data)"
   ]
  },
  {
   "cell_type": "code",
   "execution_count": 225,
   "metadata": {},
   "outputs": [
    {
     "data": {
      "text/plain": [
       "(683, 12)"
      ]
     },
     "execution_count": 225,
     "metadata": {},
     "output_type": "execute_result"
    }
   ],
   "source": [
    "data.shape"
   ]
  },
  {
   "cell_type": "code",
   "execution_count": 227,
   "metadata": {},
   "outputs": [],
   "source": [
    "training_set = data[:500,:]"
   ]
  },
  {
   "cell_type": "code",
   "execution_count": 228,
   "metadata": {},
   "outputs": [],
   "source": [
    "test_set = data[499:,:]"
   ]
  },
  {
   "cell_type": "code",
   "execution_count": 242,
   "metadata": {},
   "outputs": [],
   "source": [
    "class logisticReg:\n",
    "    \"\"\"class to build logistic regression model\"\"\"\n",
    "        \n",
    "    def __init__(self, dataset):\n",
    "        self.dataset = dataset\n",
    "        \n",
    "    def sigmoid(self, x):\n",
    "        return 1/(1+np.exp(-x))\n",
    "        \n",
    "    #update function\n",
    "    def update(self,weights,dataset,rate):\n",
    "        new_weights=weights\n",
    "        for element in dataset:\n",
    "            new_weights=np.add(new_weights, rate*(element[1:11]*(element[11]-self.sigmoid(weights.dot(element[1:11])))))\n",
    "        return new_weights\n",
    "    \n",
    "        \n",
    "    def fit(self,training_set):\n",
    "        w = np.array([0,0,0,0,0,0,0,0,0,0])\n",
    "        i=0\n",
    "        rate=0.001\n",
    "        while i<1000:\n",
    "            w=self.update(w,training_set,rate)\n",
    "            rate=rate/1.5\n",
    "            i+=1\n",
    "        return w\n",
    "    \n",
    "    \n",
    "    def evaluate_acc(self , predictions):\n",
    "        score = 0\n",
    "        for pred in predictions:\n",
    "            if pred[0]==pred[1]:\n",
    "                score+=1\n",
    "        \n",
    "        print(\"Correct Predictions: \",score)\n",
    "        print(\"Total Predictions: \",predictions[:,0].size)\n",
    "        print(\"Accuracy Percentage: \",score/predictions[:,1].size*100,\"%\")\n",
    "        return score/predictions[:,1].size*100\n",
    "        \n",
    "    def predict(self ,weights,data):\n",
    "        res=data[:,1:11].dot(weights)\n",
    "        return np.c_[ data, res>0.5 ]              \n",
    "    \n",
    "    def kfold(self,k,data):\n",
    "        i=0\n",
    "        score=0\n",
    "        batch_size=np.floor(data[:,1].size/k)\n",
    "        while i < k -1 : \n",
    "\n",
    "            training_data=np.delete(data, np.s_[(int)(i*batch_size):(int)((i+1)*batch_size)], 0)\n",
    "            test_data= data[(int)(i*(batch_size)):(int)((i+1)*(batch_size))]\n",
    "            weights = self.fit(training_data)\n",
    "            preds = self.predict(weights,test_data)\n",
    "            print(\"\\nSegmentation #\",i+1,\" Results:\")\n",
    "            score+=self.evaluate_acc(preds[:,11:13])\n",
    "            i+=1\n",
    "            \n",
    "        training_data=np.delete(data, np.s_[(int)(i*batch_size):], 0)\n",
    "        test_data= data[(int)(i*(batch_size)):]\n",
    "        weights = self.fit(training_data)\n",
    "        preds = self.predict(weights,test_data)\n",
    "        print(\"\\nSegmentation #\",i+1,\" Results:\")\n",
    "        score+=self.evaluate_acc(preds[:,11:13])\n",
    "        print(\"\\nAverage Accuracy Score: \",score/k,\"%\")\n",
    "        \n",
    "   "
   ]
  },
  {
   "cell_type": "code",
   "execution_count": 243,
   "metadata": {},
   "outputs": [],
   "source": [
    "model = logisticReg(data)"
   ]
  },
  {
   "cell_type": "code",
   "execution_count": 244,
   "metadata": {},
   "outputs": [],
   "source": [
    "weights = model.fit(training_set)"
   ]
  },
  {
   "cell_type": "code",
   "execution_count": 245,
   "metadata": {},
   "outputs": [
    {
     "data": {
      "text/plain": [
       "array([-0.37047828, -0.26518061,  0.26075875,  0.23170381,  0.08756544,\n",
       "       -0.25128753,  0.38175468, -0.25624658,  0.19570249, -0.10461199])"
      ]
     },
     "execution_count": 245,
     "metadata": {},
     "output_type": "execute_result"
    }
   ],
   "source": [
    "weights"
   ]
  },
  {
   "cell_type": "code",
   "execution_count": null,
   "metadata": {},
   "outputs": [],
   "source": []
  },
  {
   "cell_type": "code",
   "execution_count": 246,
   "metadata": {},
   "outputs": [],
   "source": [
    "predictions = model.predict(weights,test_set)"
   ]
  },
  {
   "cell_type": "code",
   "execution_count": 247,
   "metadata": {},
   "outputs": [
    {
     "data": {
      "text/plain": [
       "array([[1., 1.],\n",
       "       [1., 1.],\n",
       "       [0., 0.],\n",
       "       [0., 0.],\n",
       "       [0., 0.],\n",
       "       [1., 1.],\n",
       "       [0., 0.],\n",
       "       [0., 0.],\n",
       "       [1., 0.],\n",
       "       [1., 1.],\n",
       "       [0., 0.],\n",
       "       [0., 0.],\n",
       "       [0., 0.],\n",
       "       [0., 0.],\n",
       "       [0., 0.],\n",
       "       [0., 0.],\n",
       "       [1., 1.],\n",
       "       [0., 0.],\n",
       "       [0., 0.],\n",
       "       [0., 0.],\n",
       "       [0., 0.],\n",
       "       [0., 0.],\n",
       "       [0., 0.],\n",
       "       [0., 0.],\n",
       "       [0., 0.],\n",
       "       [0., 0.],\n",
       "       [0., 0.],\n",
       "       [0., 0.],\n",
       "       [0., 0.],\n",
       "       [0., 0.],\n",
       "       [0., 0.],\n",
       "       [0., 0.],\n",
       "       [1., 1.],\n",
       "       [0., 0.],\n",
       "       [0., 0.],\n",
       "       [1., 1.],\n",
       "       [0., 0.],\n",
       "       [0., 0.],\n",
       "       [0., 0.],\n",
       "       [0., 1.],\n",
       "       [0., 0.],\n",
       "       [0., 0.],\n",
       "       [0., 0.],\n",
       "       [0., 0.],\n",
       "       [0., 0.],\n",
       "       [0., 0.],\n",
       "       [0., 0.],\n",
       "       [0., 0.],\n",
       "       [0., 0.],\n",
       "       [0., 0.],\n",
       "       [0., 0.],\n",
       "       [1., 1.],\n",
       "       [0., 0.],\n",
       "       [0., 0.],\n",
       "       [1., 1.],\n",
       "       [1., 1.],\n",
       "       [1., 1.],\n",
       "       [1., 1.],\n",
       "       [0., 0.],\n",
       "       [0., 0.],\n",
       "       [1., 0.],\n",
       "       [0., 0.],\n",
       "       [0., 0.],\n",
       "       [0., 0.],\n",
       "       [0., 0.],\n",
       "       [0., 0.],\n",
       "       [0., 0.],\n",
       "       [1., 1.],\n",
       "       [1., 1.],\n",
       "       [0., 0.],\n",
       "       [0., 0.],\n",
       "       [0., 0.],\n",
       "       [1., 1.],\n",
       "       [0., 0.],\n",
       "       [1., 1.],\n",
       "       [0., 0.],\n",
       "       [1., 0.],\n",
       "       [1., 1.],\n",
       "       [1., 1.],\n",
       "       [0., 0.],\n",
       "       [1., 1.],\n",
       "       [0., 0.],\n",
       "       [0., 0.],\n",
       "       [0., 0.],\n",
       "       [0., 0.],\n",
       "       [0., 0.],\n",
       "       [0., 0.],\n",
       "       [0., 0.],\n",
       "       [0., 0.],\n",
       "       [1., 1.],\n",
       "       [1., 1.],\n",
       "       [1., 1.],\n",
       "       [0., 0.],\n",
       "       [0., 0.],\n",
       "       [1., 1.],\n",
       "       [0., 0.],\n",
       "       [1., 1.],\n",
       "       [1., 1.],\n",
       "       [1., 1.],\n",
       "       [0., 0.],\n",
       "       [0., 0.],\n",
       "       [0., 0.],\n",
       "       [0., 0.],\n",
       "       [0., 0.],\n",
       "       [0., 0.],\n",
       "       [0., 0.],\n",
       "       [0., 0.],\n",
       "       [0., 0.],\n",
       "       [0., 0.],\n",
       "       [0., 0.],\n",
       "       [0., 0.],\n",
       "       [1., 1.],\n",
       "       [0., 1.],\n",
       "       [0., 0.],\n",
       "       [0., 0.],\n",
       "       [0., 0.],\n",
       "       [0., 0.],\n",
       "       [0., 0.],\n",
       "       [1., 1.],\n",
       "       [0., 0.],\n",
       "       [0., 0.],\n",
       "       [1., 0.],\n",
       "       [0., 0.],\n",
       "       [0., 0.],\n",
       "       [0., 0.],\n",
       "       [0., 0.],\n",
       "       [0., 0.],\n",
       "       [0., 0.],\n",
       "       [0., 0.],\n",
       "       [0., 0.],\n",
       "       [0., 0.],\n",
       "       [0., 0.],\n",
       "       [0., 0.],\n",
       "       [1., 1.],\n",
       "       [0., 0.],\n",
       "       [0., 0.],\n",
       "       [0., 0.],\n",
       "       [0., 0.],\n",
       "       [0., 0.],\n",
       "       [0., 0.],\n",
       "       [0., 0.],\n",
       "       [0., 0.],\n",
       "       [0., 0.],\n",
       "       [1., 1.],\n",
       "       [0., 0.],\n",
       "       [0., 0.],\n",
       "       [0., 0.],\n",
       "       [0., 0.],\n",
       "       [0., 0.],\n",
       "       [0., 0.],\n",
       "       [0., 0.],\n",
       "       [0., 0.],\n",
       "       [0., 0.],\n",
       "       [1., 0.],\n",
       "       [1., 1.],\n",
       "       [1., 1.],\n",
       "       [0., 0.],\n",
       "       [0., 0.],\n",
       "       [0., 0.],\n",
       "       [0., 0.],\n",
       "       [0., 0.],\n",
       "       [0., 0.],\n",
       "       [0., 0.],\n",
       "       [0., 0.],\n",
       "       [0., 0.],\n",
       "       [1., 1.],\n",
       "       [1., 1.],\n",
       "       [0., 0.],\n",
       "       [0., 0.],\n",
       "       [0., 0.],\n",
       "       [0., 0.],\n",
       "       [0., 0.],\n",
       "       [0., 0.],\n",
       "       [0., 0.],\n",
       "       [0., 0.],\n",
       "       [0., 0.],\n",
       "       [1., 1.],\n",
       "       [0., 0.],\n",
       "       [0., 0.],\n",
       "       [0., 0.],\n",
       "       [0., 0.],\n",
       "       [1., 1.],\n",
       "       [1., 1.],\n",
       "       [1., 1.]])"
      ]
     },
     "execution_count": 247,
     "metadata": {},
     "output_type": "execute_result"
    }
   ],
   "source": [
    "predictions[:,11:13]"
   ]
  },
  {
   "cell_type": "code",
   "execution_count": 248,
   "metadata": {},
   "outputs": [
    {
     "name": "stdout",
     "output_type": "stream",
     "text": [
      "Correct Predictions:  177\n",
      "Total Predictions:  184\n",
      "Accuracy Percentage:  96.19565217391305 %\n"
     ]
    },
    {
     "data": {
      "text/plain": [
       "96.19565217391305"
      ]
     },
     "execution_count": 248,
     "metadata": {},
     "output_type": "execute_result"
    }
   ],
   "source": [
    "model.evaluate_acc(predictions[:,11:13])"
   ]
  },
  {
   "cell_type": "code",
   "execution_count": 249,
   "metadata": {},
   "outputs": [
    {
     "name": "stdout",
     "output_type": "stream",
     "text": [
      "\n",
      "Segmentation # 1  Results:\n",
      "Correct Predictions:  106\n",
      "Total Predictions:  136\n",
      "Accuracy Percentage:  77.94117647058823 %\n",
      "\n",
      "Segmentation # 2  Results:\n",
      "Correct Predictions:  121\n",
      "Total Predictions:  136\n",
      "Accuracy Percentage:  88.97058823529412 %\n",
      "\n",
      "Segmentation # 3  Results:\n",
      "Correct Predictions:  121\n",
      "Total Predictions:  136\n",
      "Accuracy Percentage:  88.97058823529412 %\n",
      "\n",
      "Segmentation # 4  Results:\n",
      "Correct Predictions:  124\n",
      "Total Predictions:  136\n",
      "Accuracy Percentage:  91.17647058823529 %\n",
      "\n",
      "Segmentation # 5  Results:\n",
      "Correct Predictions:  135\n",
      "Total Predictions:  139\n",
      "Accuracy Percentage:  97.12230215827337 %\n",
      "\n",
      "Average Accuracy Score:  88.83622513753703 %\n"
     ]
    }
   ],
   "source": [
    "model.kfold(5,model.dataset)"
   ]
  },
  {
   "cell_type": "code",
   "execution_count": null,
   "metadata": {},
   "outputs": [],
   "source": []
  },
  {
   "cell_type": "code",
   "execution_count": null,
   "metadata": {},
   "outputs": [],
   "source": []
  },
  {
   "cell_type": "code",
   "execution_count": null,
   "metadata": {},
   "outputs": [],
   "source": []
  }
 ],
 "metadata": {
  "kernelspec": {
   "display_name": "comp551a1",
   "language": "python",
   "name": "comp551a1"
  },
  "language_info": {
   "codemirror_mode": {
    "name": "ipython",
    "version": 3
   },
   "file_extension": ".py",
   "mimetype": "text/x-python",
   "name": "python",
   "nbconvert_exporter": "python",
   "pygments_lexer": "ipython3",
   "version": "3.7.3"
  }
 },
 "nbformat": 4,
 "nbformat_minor": 2
}
